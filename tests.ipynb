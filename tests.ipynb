{
 "cells": [
  {
   "cell_type": "code",
   "execution_count": 1,
   "metadata": {},
   "outputs": [],
   "source": [
    "import numpy as np\n",
    "import matplotlib.pyplot as plt\n",
    "\n",
    "import torch\n",
    "import torch.nn as nn\n",
    "import torch.nn.functional as F\n",
    "import torchvision.datasets as datasets\n",
    "import torchvision.transforms as transforms\n",
    "\n",
    "from torch.utils.data import DataLoader,TensorDataset\n",
    "\n",
    "from preprocess import *\n",
    "from attacks import *\n",
    "from models import *\n",
    "from utils import *\n",
    "from generate_attacks import *\n",
    "\n",
    "device = 'cuda'\n",
    "torch.cuda.set_device(2)"
   ]
  },
  {
   "cell_type": "code",
   "execution_count": 2,
   "metadata": {},
   "outputs": [],
   "source": [
    "train_set = datasets.MNIST(root = '/home/aminul/data',train = True, \n",
    "                           transform = transforms.ToTensor(), download = False)\n",
    "test_set = datasets.MNIST(root = '/home/aminul/data',train = False, \n",
    "                          transform = transforms.ToTensor(), download = False)"
   ]
  },
  {
   "cell_type": "code",
   "execution_count": 3,
   "metadata": {},
   "outputs": [],
   "source": [
    "train_loader = DataLoader(train_set,100,True)\n",
    "test_loader = DataLoader(test_set,100,False)\n",
    "\n",
    "train_loader_2 = DataLoader(train_set,1,True)\n",
    "test_loader_2 = DataLoader(test_set,1,False)"
   ]
  },
  {
   "cell_type": "code",
   "execution_count": 4,
   "metadata": {},
   "outputs": [],
   "source": [
    "num_classes = 10\n",
    "learning_rate = 0.01\n",
    "num_epochs = 5"
   ]
  },
  {
   "cell_type": "code",
   "execution_count": 5,
   "metadata": {},
   "outputs": [],
   "source": [
    "criterion = nn.CrossEntropyLoss()\n",
    "\n",
    "model1 = CNN()\n",
    "\n",
    "opt_1 = torch.optim.SGD(model1.parameters(),lr=learning_rate)"
   ]
  },
  {
   "cell_type": "code",
   "execution_count": 6,
   "metadata": {},
   "outputs": [
    {
     "name": "stderr",
     "output_type": "stream",
     "text": [
      "100%|██████████| 600/600 [00:10<00:00, 57.71it/s]\n",
      "  1%|▏         | 8/600 [00:00<00:07, 79.20it/s]"
     ]
    },
    {
     "name": "stdout",
     "output_type": "stream",
     "text": [
      "Training: epoch: [1/5]  loss: [1.86] Accuracy [41.44] \n"
     ]
    },
    {
     "name": "stderr",
     "output_type": "stream",
     "text": [
      "100%|██████████| 600/600 [00:07<00:00, 78.52it/s]\n",
      "  1%|          | 7/600 [00:00<00:09, 65.55it/s]"
     ]
    },
    {
     "name": "stdout",
     "output_type": "stream",
     "text": [
      "Training: epoch: [2/5]  loss: [0.43] Accuracy [87.46] \n"
     ]
    },
    {
     "name": "stderr",
     "output_type": "stream",
     "text": [
      "100%|██████████| 600/600 [00:07<00:00, 79.44it/s]\n",
      "  1%|▏         | 8/600 [00:00<00:07, 78.26it/s]"
     ]
    },
    {
     "name": "stdout",
     "output_type": "stream",
     "text": [
      "Training: epoch: [3/5]  loss: [0.28] Accuracy [91.54] \n"
     ]
    },
    {
     "name": "stderr",
     "output_type": "stream",
     "text": [
      "100%|██████████| 600/600 [00:07<00:00, 80.06it/s]\n",
      "  1%|▏         | 8/600 [00:00<00:07, 77.84it/s]"
     ]
    },
    {
     "name": "stdout",
     "output_type": "stream",
     "text": [
      "Training: epoch: [4/5]  loss: [0.22] Accuracy [93.43] \n"
     ]
    },
    {
     "name": "stderr",
     "output_type": "stream",
     "text": [
      "100%|██████████| 600/600 [00:07<00:00, 80.21it/s]\n",
      " 10%|█         | 10/100 [00:00<00:00, 97.72it/s]"
     ]
    },
    {
     "name": "stdout",
     "output_type": "stream",
     "text": [
      "Training: epoch: [5/5]  loss: [0.18] Accuracy [94.62] \n"
     ]
    },
    {
     "name": "stderr",
     "output_type": "stream",
     "text": [
      "100%|██████████| 100/100 [00:01<00:00, 97.44it/s]"
     ]
    },
    {
     "name": "stdout",
     "output_type": "stream",
     "text": [
      "Testing: Loss: [0.15] Accuracy [95.52]\n"
     ]
    },
    {
     "name": "stderr",
     "output_type": "stream",
     "text": [
      "\n"
     ]
    }
   ],
   "source": [
    "history = train(model1,train_loader,num_epochs,opt_1,criterion,device)\n",
    "test(model1,test_loader,criterion,device)"
   ]
  },
  {
   "cell_type": "code",
   "execution_count": 17,
   "metadata": {},
   "outputs": [],
   "source": [
    "def PGD(model,image,labels,eps,attack_steps,attack_lr,criterion,device,random_init = True, target = None, clamp = (0,1)):\n",
    "    \n",
    "    model,image,labels = model.to(device),image.to(device),labels.to(device)    \n",
    "        \n",
    "    x_adv = image.clone()\n",
    "    \n",
    "    if random_init:\n",
    "        x_adv = x_adv + (torch.rand(image.size(),dtype = image.dtype, device = device) - 0.5) *2 * eps\n",
    "        \n",
    "    for i in range(attack_steps):\n",
    "        \n",
    "        x_adv.requires_grad = True\n",
    "        \n",
    "        model.zero_grad()\n",
    "        logits = model(x_adv)\n",
    "        \n",
    "        if target is None:\n",
    "            loss = criterion(logits,labels)\n",
    "            loss.backward()\n",
    "            grad = x_adv.grad.detach()\n",
    "            grad = grad.sign()\n",
    "            x_adv = x_adv + attack_lr * grad\n",
    "        \n",
    "        else:\n",
    "            assert target.size() == y.size()\n",
    "            loss = F.cross_entropy(logits, target)\n",
    "            loss.backward()\n",
    "            grad = x_adv.grad.detach()\n",
    "            grad = grad.sign()\n",
    "            x_adv = x_adv - attack_lr * grad\n",
    "       \n",
    "        x_adv = image + torch.clamp(x_adv - image, min=-eps, max=eps)\n",
    "        x_adv = x_adv.detach()\n",
    "        x_adv = torch.clamp(x_adv, *clamp)\n",
    "        \n",
    "        \n",
    "    return x_adv"
   ]
  },
  {
   "cell_type": "code",
   "execution_count": 18,
   "metadata": {},
   "outputs": [],
   "source": [
    "def generatePGD(test_loader,model,device,eps,attack_iter,criterion):\n",
    "    adv_img = []\n",
    "    l = []\n",
    "    attack_lr = 0.01\n",
    "    \n",
    "    print(\"Generating PGD Adversarial Images\")\n",
    "    iterator = tqdm(test_loader,ncols=0, leave=False)\n",
    "    for data,labels in iterator:\n",
    "        x1 = PGD(model,data,labels,eps,attack_iter,attack_lr,criterion,device)\n",
    "        l.append(labels)\n",
    "        x2 = x1.squeeze().cpu().detach().numpy()\n",
    "        adv_img.append(x2)\n",
    "            \n",
    "    x3 = np.array(adv_img)\n",
    "    x3 = x3.reshape(10000,1,28,28)\n",
    "    l = np.array(l)\n",
    "        \n",
    "    features_test = torch.from_numpy(x3)\n",
    "    targets_test = torch.from_numpy(l)\n",
    "\n",
    "    new_dataset = torch.utils.data.TensorDataset(features_test,targets_test)\n",
    "    new_data_loader = torch.utils.data.DataLoader(new_dataset,100,shuffle = False)\n",
    "    \n",
    "    \n",
    "    return new_data_loader    "
   ]
  },
  {
   "cell_type": "code",
   "execution_count": 20,
   "metadata": {},
   "outputs": [
    {
     "name": "stderr",
     "output_type": "stream",
     "text": [
      "  0% 2/10000 [00:00<11:38, 14.31it/s]"
     ]
    },
    {
     "name": "stdout",
     "output_type": "stream",
     "text": [
      "Generating PGD Adversarial Images\n"
     ]
    },
    {
     "name": "stderr",
     "output_type": "stream",
     "text": [
      "                                        \r"
     ]
    }
   ],
   "source": [
    "eps = 0.1\n",
    "attack_iter = 20\n",
    "data_loader = generatePGD(test_loader_2,model1,device,eps,attack_iter,criterion)"
   ]
  },
  {
   "cell_type": "code",
   "execution_count": 21,
   "metadata": {},
   "outputs": [
    {
     "name": "stderr",
     "output_type": "stream",
     "text": [
      "100%|██████████| 100/100 [00:00<00:00, 462.53it/s]"
     ]
    },
    {
     "name": "stdout",
     "output_type": "stream",
     "text": [
      "Testing: Loss: [1.20] Accuracy [59.00]\n"
     ]
    },
    {
     "name": "stderr",
     "output_type": "stream",
     "text": [
      "\n"
     ]
    }
   ],
   "source": [
    "test(model1,data_loader,criterion,device)"
   ]
  },
  {
   "cell_type": "code",
   "execution_count": null,
   "metadata": {},
   "outputs": [],
   "source": []
  }
 ],
 "metadata": {
  "kernelspec": {
   "display_name": "Python [conda env:pyTorch]",
   "language": "python",
   "name": "conda-env-pyTorch-py"
  },
  "language_info": {
   "codemirror_mode": {
    "name": "ipython",
    "version": 3
   },
   "file_extension": ".py",
   "mimetype": "text/x-python",
   "name": "python",
   "nbconvert_exporter": "python",
   "pygments_lexer": "ipython3",
   "version": "3.6.10"
  }
 },
 "nbformat": 4,
 "nbformat_minor": 4
}
